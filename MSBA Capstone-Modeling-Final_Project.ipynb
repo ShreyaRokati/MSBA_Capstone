{
 "cells": [
  {
   "cell_type": "markdown",
   "id": "b869185b",
   "metadata": {},
   "source": [
    "## MSBA CAPSTONE - Swire Coca-cola Customer Success Prediction"
   ]
  },
  {
   "cell_type": "markdown",
   "id": "211bd98c",
   "metadata": {},
   "source": [
    "### Table of Contents:\n",
    "### 1. Business Problem Statement\n",
    "### 2. EDA\n",
    "####     2.1 Data Preparation\n",
    "####     2.2 Exploratory Questions\n",
    "####     2.3 Metrics 1-5\n",
    "####     2.4 Overall Results\n",
    "### 3. Modeling\n",
    "####     3.1 Data Preparation and Feature Engineering\n",
    "####     3.2 Modeling Process : Model Selection, Cross Validation, Model Tuning\n",
    "####     3.2a Linear Regression Model\n",
    "####     3.2b KNN Model\n",
    "####     3.2c Decision Tree\n",
    "####     3.3 Model Performance\n",
    "### 4. Results"
   ]
  },
  {
   "cell_type": "markdown",
   "id": "cf7dfc1d",
   "metadata": {},
   "source": [
    "## 1. Business Problem Statement"
   ]
  },
  {
   "cell_type": "markdown",
   "id": "bac46d1b",
   "metadata": {},
   "source": [
    "#### Swire Coca-cola business is a 'B2B' driven by local businesses such as restaurants. To partner with another business, Swire needs to analyze if the partnered business can gain profits and less risk of loss. To resolve this issue, the company needs to improve its ability to predict the following metrics:\n",
    "#### 1) Business popularity by checking its overall rating ( 4.0 or higher online reviews), \n",
    "#### 2) Longevity (1, 2, or 3+ years),\n",
    "#### 3) 3-year volume sales.\n",
    "\n",
    "#### The main objective is to identify the factors like Profit, Costs, Trade Channel, Beverage Type that will help Swire Coca-cola to understand the market well and the potential customers.\n",
    "#### By Analyzing the metrics mentioned above, Swire Coca-cola aims to identify the prospective business customers and determine the price and funding for a business who are most likely to provide high profits and less risk.\n",
    "#### The project will succeed by analyzing the customer and sales data, providing Swire Coca-cola with a list of Customers, which will help them to gain more profits. The project timeline is three months, delivered by 3 MSBA graduate students."
   ]
  },
  {
   "cell_type": "markdown",
   "id": "a0ecb6f4",
   "metadata": {},
   "source": [
    "## 2. EDA"
   ]
  },
  {
   "cell_type": "markdown",
   "id": "8e655924",
   "metadata": {},
   "source": [
    "### Importing Libraries"
   ]
  },
  {
   "cell_type": "code",
   "execution_count": 137,
   "id": "9d20ff85",
   "metadata": {},
   "outputs": [],
   "source": [
    "### Import libraries\n",
    "\n",
    "import numpy as np\n",
    "import pandas as pd\n",
    "import matplotlib.pyplot as plt\n",
    "import seaborn as sns\n",
    "import os\n",
    "from pydoc import help\n",
    "from scipy.stats.stats import pearsonr\n",
    "import warnings\n",
    "warnings.filterwarnings(\"ignore\", category=DeprecationWarning)\n",
    "\n",
    "import random\n",
    "from datetime import datetime as dt\n",
    "\n",
    "\n",
    "from sklearn.model_selection import cross_val_score\n",
    "from sklearn.model_selection import train_test_split\n",
    "import sklearn.metrics as sk\n",
    "from sklearn.metrics import r2_score\n",
    "from sklearn.metrics import mean_squared_error\n",
    "from sklearn.neighbors import KNeighborsClassifier\n",
    "from sklearn.metrics import r2_score"
   ]
  },
  {
   "cell_type": "markdown",
   "id": "afe4571e",
   "metadata": {},
   "source": [
    "### Importing Data"
   ]
  },
  {
   "cell_type": "code",
   "execution_count": 2,
   "id": "849ad594",
   "metadata": {},
   "outputs": [],
   "source": [
    "cus_df = pd.read_excel(\"/Users/msdta/Downloads/FSOP_Customer_Data_v2.0.xlsb\", engine='pyxlsb')\n",
    "sales_df = pd.read_excel(\"/Users/msdta/Downloads/FSOP_Sales_Data_v2.0.xlsb\", engine='pyxlsb')"
   ]
  },
  {
   "cell_type": "code",
   "execution_count": 3,
   "id": "5110bd74",
   "metadata": {},
   "outputs": [
    {
     "data": {
      "text/html": [
       "<div>\n",
       "<style scoped>\n",
       "    .dataframe tbody tr th:only-of-type {\n",
       "        vertical-align: middle;\n",
       "    }\n",
       "\n",
       "    .dataframe tbody tr th {\n",
       "        vertical-align: top;\n",
       "    }\n",
       "\n",
       "    .dataframe thead th {\n",
       "        text-align: right;\n",
       "    }\n",
       "</style>\n",
       "<table border=\"1\" class=\"dataframe\">\n",
       "  <thead>\n",
       "    <tr style=\"text-align: right;\">\n",
       "      <th></th>\n",
       "      <th>CUSTOMER_NUMBER_BLINDED</th>\n",
       "      <th>SALES_OFFICE_DESCRIPTION</th>\n",
       "      <th>DELIVERY_PLANT_DESCRIPTION</th>\n",
       "      <th>ON_BOARDING_DATE</th>\n",
       "      <th>ADDRESS_CITY</th>\n",
       "      <th>ADDRESS_ZIP_CODE</th>\n",
       "      <th>COUNTY</th>\n",
       "      <th>GEO_LONGITUDE</th>\n",
       "      <th>GEO_LATITUDE</th>\n",
       "      <th>CUSTOMER_ACTIVITY_CLUSTER_DESCRIPTION</th>\n",
       "      <th>CUSTOMER_TRADE_CHANNEL_DESCRIPTION</th>\n",
       "      <th>CUSTOMER_SUB_TRADE_CHANNEL_DESCRIPTION</th>\n",
       "      <th>BUSINESS_TYPE_EXTENSION_DESCRIPTION</th>\n",
       "      <th>CUSTOMER_TRADE_CHANNEL_DESCRIPTION2</th>\n",
       "      <th>MARKET_DESCRIPTION</th>\n",
       "      <th>COLD_DRINK_CHANNEL_DESCRIPTION</th>\n",
       "    </tr>\n",
       "  </thead>\n",
       "  <tbody>\n",
       "    <tr>\n",
       "      <th>0</th>\n",
       "      <td>C0895044502170683</td>\n",
       "      <td>Tucson, AZ</td>\n",
       "      <td>Tucson, AZ</td>\n",
       "      <td>42772</td>\n",
       "      <td>TUCSON</td>\n",
       "      <td>85756-6948</td>\n",
       "      <td>PIMA</td>\n",
       "      <td>-110.928378</td>\n",
       "      <td>32.115937</td>\n",
       "      <td>Other Shopping &amp; Ser</td>\n",
       "      <td>General Merchandiser</td>\n",
       "      <td>Other General Mercha</td>\n",
       "      <td>DSD</td>\n",
       "      <td>General Merchandiser</td>\n",
       "      <td>FSOP</td>\n",
       "      <td>RETAIL</td>\n",
       "    </tr>\n",
       "    <tr>\n",
       "      <th>1</th>\n",
       "      <td>C0409008701210025</td>\n",
       "      <td>Tacoma, WA</td>\n",
       "      <td>Tacoma Sales Center, WA</td>\n",
       "      <td>39944</td>\n",
       "      <td>FORT LEWIS</td>\n",
       "      <td>98433</td>\n",
       "      <td>PIERCE</td>\n",
       "      <td>-122.587244</td>\n",
       "      <td>47.102365</td>\n",
       "      <td>Eating &amp; Drinking</td>\n",
       "      <td>Quick Service Restau</td>\n",
       "      <td>QSR-Pizza</td>\n",
       "      <td>DSD</td>\n",
       "      <td>Quick Service Restau</td>\n",
       "      <td>FSOP</td>\n",
       "      <td>EATING/DRINKING</td>\n",
       "    </tr>\n",
       "    <tr>\n",
       "      <th>2</th>\n",
       "      <td>C0278065006510168</td>\n",
       "      <td>Walla Walla, WA</td>\n",
       "      <td>Walla Walla, WA</td>\n",
       "      <td>38035</td>\n",
       "      <td>COLLEGE PLACE</td>\n",
       "      <td>99324-9730</td>\n",
       "      <td>WALLA WALLA</td>\n",
       "      <td>-118.373040</td>\n",
       "      <td>46.052920</td>\n",
       "      <td>Other Shopping &amp; Ser</td>\n",
       "      <td>General Merchandiser</td>\n",
       "      <td>Hardware/Home-Improv</td>\n",
       "      <td>DSD</td>\n",
       "      <td>General Merchandiser</td>\n",
       "      <td>FSOP</td>\n",
       "      <td>RETAIL</td>\n",
       "    </tr>\n",
       "    <tr>\n",
       "      <th>3</th>\n",
       "      <td>C0559043803480412</td>\n",
       "      <td>Prescott, AZ</td>\n",
       "      <td>Glendale, AZ</td>\n",
       "      <td>34215</td>\n",
       "      <td>PRESCOTT</td>\n",
       "      <td>86301-3313</td>\n",
       "      <td>YAVAPAI</td>\n",
       "      <td>-112.450490</td>\n",
       "      <td>34.545020</td>\n",
       "      <td>Travel/Transportatio</td>\n",
       "      <td>Lodging</td>\n",
       "      <td>Other Lodging</td>\n",
       "      <td>DSD</td>\n",
       "      <td>Lodging</td>\n",
       "      <td>FSOP</td>\n",
       "      <td>LODGING</td>\n",
       "    </tr>\n",
       "    <tr>\n",
       "      <th>4</th>\n",
       "      <td>C0729091103720749</td>\n",
       "      <td>Reno, NV</td>\n",
       "      <td>Reno, NV</td>\n",
       "      <td>41990</td>\n",
       "      <td>SOUTH LAKE TAHOE</td>\n",
       "      <td>96150-7702</td>\n",
       "      <td>EL DORADO</td>\n",
       "      <td>-119.984227</td>\n",
       "      <td>38.926637</td>\n",
       "      <td>Other Shopping &amp; Ser</td>\n",
       "      <td>Automotive Services</td>\n",
       "      <td>Other Automotive Ser</td>\n",
       "      <td>DSD</td>\n",
       "      <td>Automotive Services</td>\n",
       "      <td>FSOP</td>\n",
       "      <td>RETAIL</td>\n",
       "    </tr>\n",
       "    <tr>\n",
       "      <th>...</th>\n",
       "      <td>...</td>\n",
       "      <td>...</td>\n",
       "      <td>...</td>\n",
       "      <td>...</td>\n",
       "      <td>...</td>\n",
       "      <td>...</td>\n",
       "      <td>...</td>\n",
       "      <td>...</td>\n",
       "      <td>...</td>\n",
       "      <td>...</td>\n",
       "      <td>...</td>\n",
       "      <td>...</td>\n",
       "      <td>...</td>\n",
       "      <td>...</td>\n",
       "      <td>...</td>\n",
       "      <td>...</td>\n",
       "    </tr>\n",
       "    <tr>\n",
       "      <th>40381</th>\n",
       "      <td>C0969054506370153</td>\n",
       "      <td>Johnstown, CO</td>\n",
       "      <td>Johnstown, CO</td>\n",
       "      <td>43486</td>\n",
       "      <td>GREELEY</td>\n",
       "      <td>80631-9529</td>\n",
       "      <td>WELD</td>\n",
       "      <td>-104.677498</td>\n",
       "      <td>40.429684</td>\n",
       "      <td>Third Party (Non-Con</td>\n",
       "      <td>All Other</td>\n",
       "      <td>B2B CONTRACTUAL DIST</td>\n",
       "      <td>Secondary Volume</td>\n",
       "      <td>All Other</td>\n",
       "      <td>ALL OTHER</td>\n",
       "      <td>WHOLESALE</td>\n",
       "    </tr>\n",
       "    <tr>\n",
       "      <th>40382</th>\n",
       "      <td>C0826029007880667</td>\n",
       "      <td>Tempe, AZ</td>\n",
       "      <td>Tempe, AZ</td>\n",
       "      <td>43353</td>\n",
       "      <td>CHANDLER</td>\n",
       "      <td>85224-2878</td>\n",
       "      <td>MARICOPA</td>\n",
       "      <td>-111.859055</td>\n",
       "      <td>33.338470</td>\n",
       "      <td>Third Party (Non-Con</td>\n",
       "      <td>All Other</td>\n",
       "      <td>B2B CONTRACTUAL DIST</td>\n",
       "      <td>Secondary Volume</td>\n",
       "      <td>All Other</td>\n",
       "      <td>ALL OTHER</td>\n",
       "      <td>WHOLESALE</td>\n",
       "    </tr>\n",
       "    <tr>\n",
       "      <th>40383</th>\n",
       "      <td>C0720037102950022</td>\n",
       "      <td>Albuquerque, NM</td>\n",
       "      <td>Albuquerque, NM</td>\n",
       "      <td>42991</td>\n",
       "      <td>ALBUQUERQUE</td>\n",
       "      <td>87113-1554</td>\n",
       "      <td>BERNALILLO</td>\n",
       "      <td>-106.597680</td>\n",
       "      <td>35.184660</td>\n",
       "      <td>Entertainment/Recrea</td>\n",
       "      <td>Recreation</td>\n",
       "      <td>Other Recreation</td>\n",
       "      <td>Spcl Evnt: One Time</td>\n",
       "      <td>Recreation</td>\n",
       "      <td>FSOP</td>\n",
       "      <td>DESTINATION VENUE</td>\n",
       "    </tr>\n",
       "    <tr>\n",
       "      <th>40384</th>\n",
       "      <td>C0285043409270577</td>\n",
       "      <td>Draper, UT</td>\n",
       "      <td>Draper, UT</td>\n",
       "      <td>40140</td>\n",
       "      <td>SALT LAKE CITY</td>\n",
       "      <td>84104</td>\n",
       "      <td>SALT LAKE</td>\n",
       "      <td>-111.974670</td>\n",
       "      <td>40.749605</td>\n",
       "      <td>Other Shopping &amp; Ser</td>\n",
       "      <td>Automotive Services</td>\n",
       "      <td>Other Automotive Ser</td>\n",
       "      <td>DSD</td>\n",
       "      <td>Automotive Services</td>\n",
       "      <td>FSOP</td>\n",
       "      <td>RETAIL</td>\n",
       "    </tr>\n",
       "    <tr>\n",
       "      <th>40385</th>\n",
       "      <td>C0166020805730234</td>\n",
       "      <td>Bellevue, WA</td>\n",
       "      <td>Bellevue, WA</td>\n",
       "      <td>43354</td>\n",
       "      <td>KENT</td>\n",
       "      <td>98032-1123</td>\n",
       "      <td>KING</td>\n",
       "      <td>-122.231210</td>\n",
       "      <td>47.425405</td>\n",
       "      <td>Third Party (Non-Con</td>\n",
       "      <td>All Other</td>\n",
       "      <td>B2B CONTRACTUAL DIST</td>\n",
       "      <td>Secondary Volume</td>\n",
       "      <td>All Other</td>\n",
       "      <td>ALL OTHER</td>\n",
       "      <td>WHOLESALE</td>\n",
       "    </tr>\n",
       "  </tbody>\n",
       "</table>\n",
       "<p>40386 rows × 16 columns</p>\n",
       "</div>"
      ],
      "text/plain": [
       "      CUSTOMER_NUMBER_BLINDED SALES_OFFICE_DESCRIPTION  \\\n",
       "0           C0895044502170683               Tucson, AZ   \n",
       "1           C0409008701210025               Tacoma, WA   \n",
       "2           C0278065006510168          Walla Walla, WA   \n",
       "3           C0559043803480412             Prescott, AZ   \n",
       "4           C0729091103720749                 Reno, NV   \n",
       "...                       ...                      ...   \n",
       "40381       C0969054506370153            Johnstown, CO   \n",
       "40382       C0826029007880667                Tempe, AZ   \n",
       "40383       C0720037102950022          Albuquerque, NM   \n",
       "40384       C0285043409270577               Draper, UT   \n",
       "40385       C0166020805730234             Bellevue, WA   \n",
       "\n",
       "      DELIVERY_PLANT_DESCRIPTION  ON_BOARDING_DATE      ADDRESS_CITY  \\\n",
       "0                     Tucson, AZ             42772            TUCSON   \n",
       "1        Tacoma Sales Center, WA             39944        FORT LEWIS   \n",
       "2                Walla Walla, WA             38035     COLLEGE PLACE   \n",
       "3                   Glendale, AZ             34215          PRESCOTT   \n",
       "4                       Reno, NV             41990  SOUTH LAKE TAHOE   \n",
       "...                          ...               ...               ...   \n",
       "40381              Johnstown, CO             43486           GREELEY   \n",
       "40382                  Tempe, AZ             43353          CHANDLER   \n",
       "40383            Albuquerque, NM             42991       ALBUQUERQUE   \n",
       "40384                 Draper, UT             40140    SALT LAKE CITY   \n",
       "40385               Bellevue, WA             43354              KENT   \n",
       "\n",
       "      ADDRESS_ZIP_CODE       COUNTY  GEO_LONGITUDE  GEO_LATITUDE  \\\n",
       "0           85756-6948         PIMA    -110.928378     32.115937   \n",
       "1                98433       PIERCE    -122.587244     47.102365   \n",
       "2           99324-9730  WALLA WALLA    -118.373040     46.052920   \n",
       "3           86301-3313      YAVAPAI    -112.450490     34.545020   \n",
       "4           96150-7702    EL DORADO    -119.984227     38.926637   \n",
       "...                ...          ...            ...           ...   \n",
       "40381       80631-9529         WELD    -104.677498     40.429684   \n",
       "40382       85224-2878     MARICOPA    -111.859055     33.338470   \n",
       "40383       87113-1554   BERNALILLO    -106.597680     35.184660   \n",
       "40384            84104    SALT LAKE    -111.974670     40.749605   \n",
       "40385       98032-1123         KING    -122.231210     47.425405   \n",
       "\n",
       "      CUSTOMER_ACTIVITY_CLUSTER_DESCRIPTION  \\\n",
       "0                      Other Shopping & Ser   \n",
       "1                         Eating & Drinking   \n",
       "2                      Other Shopping & Ser   \n",
       "3                      Travel/Transportatio   \n",
       "4                      Other Shopping & Ser   \n",
       "...                                     ...   \n",
       "40381                  Third Party (Non-Con   \n",
       "40382                  Third Party (Non-Con   \n",
       "40383                  Entertainment/Recrea   \n",
       "40384                  Other Shopping & Ser   \n",
       "40385                  Third Party (Non-Con   \n",
       "\n",
       "      CUSTOMER_TRADE_CHANNEL_DESCRIPTION  \\\n",
       "0                   General Merchandiser   \n",
       "1                   Quick Service Restau   \n",
       "2                   General Merchandiser   \n",
       "3                                Lodging   \n",
       "4                    Automotive Services   \n",
       "...                                  ...   \n",
       "40381                          All Other   \n",
       "40382                          All Other   \n",
       "40383                         Recreation   \n",
       "40384                Automotive Services   \n",
       "40385                          All Other   \n",
       "\n",
       "      CUSTOMER_SUB_TRADE_CHANNEL_DESCRIPTION  \\\n",
       "0                       Other General Mercha   \n",
       "1                                  QSR-Pizza   \n",
       "2                       Hardware/Home-Improv   \n",
       "3                              Other Lodging   \n",
       "4                       Other Automotive Ser   \n",
       "...                                      ...   \n",
       "40381                   B2B CONTRACTUAL DIST   \n",
       "40382                   B2B CONTRACTUAL DIST   \n",
       "40383                       Other Recreation   \n",
       "40384                   Other Automotive Ser   \n",
       "40385                   B2B CONTRACTUAL DIST   \n",
       "\n",
       "      BUSINESS_TYPE_EXTENSION_DESCRIPTION CUSTOMER_TRADE_CHANNEL_DESCRIPTION2  \\\n",
       "0                                     DSD                General Merchandiser   \n",
       "1                                     DSD                Quick Service Restau   \n",
       "2                                     DSD                General Merchandiser   \n",
       "3                                     DSD                             Lodging   \n",
       "4                                     DSD                 Automotive Services   \n",
       "...                                   ...                                 ...   \n",
       "40381                    Secondary Volume                           All Other   \n",
       "40382                    Secondary Volume                           All Other   \n",
       "40383                 Spcl Evnt: One Time                          Recreation   \n",
       "40384                                 DSD                 Automotive Services   \n",
       "40385                    Secondary Volume                           All Other   \n",
       "\n",
       "      MARKET_DESCRIPTION COLD_DRINK_CHANNEL_DESCRIPTION  \n",
       "0                   FSOP                         RETAIL  \n",
       "1                   FSOP                EATING/DRINKING  \n",
       "2                   FSOP                         RETAIL  \n",
       "3                   FSOP                        LODGING  \n",
       "4                   FSOP                         RETAIL  \n",
       "...                  ...                            ...  \n",
       "40381          ALL OTHER                      WHOLESALE  \n",
       "40382          ALL OTHER                      WHOLESALE  \n",
       "40383               FSOP              DESTINATION VENUE  \n",
       "40384               FSOP                         RETAIL  \n",
       "40385          ALL OTHER                      WHOLESALE  \n",
       "\n",
       "[40386 rows x 16 columns]"
      ]
     },
     "execution_count": 3,
     "metadata": {},
     "output_type": "execute_result"
    }
   ],
   "source": [
    "cus_df"
   ]
  },
  {
   "cell_type": "code",
   "execution_count": 4,
   "id": "f2e7de4c",
   "metadata": {},
   "outputs": [
    {
     "data": {
      "text/html": [
       "<div>\n",
       "<style scoped>\n",
       "    .dataframe tbody tr th:only-of-type {\n",
       "        vertical-align: middle;\n",
       "    }\n",
       "\n",
       "    .dataframe tbody tr th {\n",
       "        vertical-align: top;\n",
       "    }\n",
       "\n",
       "    .dataframe thead th {\n",
       "        text-align: right;\n",
       "    }\n",
       "</style>\n",
       "<table border=\"1\" class=\"dataframe\">\n",
       "  <thead>\n",
       "    <tr style=\"text-align: right;\">\n",
       "      <th></th>\n",
       "      <th>CUSTOMER_NUMBER_BLINDED</th>\n",
       "      <th>PRODUCT_SOLD_BLINDED</th>\n",
       "      <th>BEV_CAT_DESC</th>\n",
       "      <th>CALORIE_CAT_DESC</th>\n",
       "      <th>PACK_TYPE_DESC</th>\n",
       "      <th>PACK_SIZE_SALES_UNIT_DESCRIPTION</th>\n",
       "      <th>PHYSICAL_VOLUME</th>\n",
       "      <th>DISCOUNT</th>\n",
       "      <th>INVOICE_PRICE</th>\n",
       "      <th>DEAD_NET</th>\n",
       "      <th>GROSS_PROFIT_DEAD_NET</th>\n",
       "      <th>COGS</th>\n",
       "      <th>MIN_POSTING_DATE</th>\n",
       "      <th>MAX_POSTING_DATE</th>\n",
       "      <th>NUM_OF_TRANSACTIONS</th>\n",
       "    </tr>\n",
       "  </thead>\n",
       "  <tbody>\n",
       "    <tr>\n",
       "      <th>0</th>\n",
       "      <td>C0051046109640797</td>\n",
       "      <td>M056203880974</td>\n",
       "      <td>CORE SPARKLING</td>\n",
       "      <td>REGULAR CALORIE</td>\n",
       "      <td>Plastic Bottle - Contour</td>\n",
       "      <td>20 OZ 1-Ls 24</td>\n",
       "      <td>88.0</td>\n",
       "      <td>2246.40</td>\n",
       "      <td>2505.60</td>\n",
       "      <td>1924.70</td>\n",
       "      <td>1112.73</td>\n",
       "      <td>682.41</td>\n",
       "      <td>44208</td>\n",
       "      <td>44925</td>\n",
       "      <td>157</td>\n",
       "    </tr>\n",
       "    <tr>\n",
       "      <th>1</th>\n",
       "      <td>C0348074302380406</td>\n",
       "      <td>M042308250090</td>\n",
       "      <td>CORE SPARKLING</td>\n",
       "      <td>LOW CALORIE</td>\n",
       "      <td>Aluminum Can - Sleek</td>\n",
       "      <td>12 OZ 4-Pk 24</td>\n",
       "      <td>58.0</td>\n",
       "      <td>1197.12</td>\n",
       "      <td>1666.92</td>\n",
       "      <td>1468.77</td>\n",
       "      <td>316.19</td>\n",
       "      <td>1185.98</td>\n",
       "      <td>44229</td>\n",
       "      <td>44925</td>\n",
       "      <td>40</td>\n",
       "    </tr>\n",
       "    <tr>\n",
       "      <th>2</th>\n",
       "      <td>C0277089703710223</td>\n",
       "      <td>M010605530774</td>\n",
       "      <td>TEA</td>\n",
       "      <td>LOW CALORIE</td>\n",
       "      <td>Plastic Bottle - Other</td>\n",
       "      <td>18.5 OZ 1-Ls 12</td>\n",
       "      <td>108.0</td>\n",
       "      <td>3429.00</td>\n",
       "      <td>1755.00</td>\n",
       "      <td>1499.03</td>\n",
       "      <td>403.25</td>\n",
       "      <td>1107.73</td>\n",
       "      <td>44627</td>\n",
       "      <td>44925</td>\n",
       "      <td>62</td>\n",
       "    </tr>\n",
       "    <tr>\n",
       "      <th>3</th>\n",
       "      <td>C0112072503650635</td>\n",
       "      <td>M050800200648</td>\n",
       "      <td>ENERGY DRINKS</td>\n",
       "      <td>REGULAR CALORIE</td>\n",
       "      <td>Aluminum Can</td>\n",
       "      <td>16 OZ 1-Ls 24</td>\n",
       "      <td>15.0</td>\n",
       "      <td>307.12</td>\n",
       "      <td>592.88</td>\n",
       "      <td>553.18</td>\n",
       "      <td>77.90</td>\n",
       "      <td>475.28</td>\n",
       "      <td>44721</td>\n",
       "      <td>44925</td>\n",
       "      <td>17</td>\n",
       "    </tr>\n",
       "    <tr>\n",
       "      <th>4</th>\n",
       "      <td>C0305009008200279</td>\n",
       "      <td>M009608400345</td>\n",
       "      <td>CORE SPARKLING</td>\n",
       "      <td>REGULAR CALORIE</td>\n",
       "      <td>Plastic Bottle - Dimple</td>\n",
       "      <td>2 LTR 1-Ls 8</td>\n",
       "      <td>195.0</td>\n",
       "      <td>3382.05</td>\n",
       "      <td>2077.95</td>\n",
       "      <td>1812.90</td>\n",
       "      <td>661.21</td>\n",
       "      <td>1416.99</td>\n",
       "      <td>44201</td>\n",
       "      <td>44925</td>\n",
       "      <td>166</td>\n",
       "    </tr>\n",
       "  </tbody>\n",
       "</table>\n",
       "</div>"
      ],
      "text/plain": [
       "  CUSTOMER_NUMBER_BLINDED PRODUCT_SOLD_BLINDED    BEV_CAT_DESC  \\\n",
       "0       C0051046109640797        M056203880974  CORE SPARKLING   \n",
       "1       C0348074302380406        M042308250090  CORE SPARKLING   \n",
       "2       C0277089703710223        M010605530774             TEA   \n",
       "3       C0112072503650635        M050800200648   ENERGY DRINKS   \n",
       "4       C0305009008200279        M009608400345  CORE SPARKLING   \n",
       "\n",
       "  CALORIE_CAT_DESC            PACK_TYPE_DESC PACK_SIZE_SALES_UNIT_DESCRIPTION  \\\n",
       "0  REGULAR CALORIE  Plastic Bottle - Contour                    20 OZ 1-Ls 24   \n",
       "1      LOW CALORIE      Aluminum Can - Sleek                    12 OZ 4-Pk 24   \n",
       "2      LOW CALORIE    Plastic Bottle - Other                  18.5 OZ 1-Ls 12   \n",
       "3  REGULAR CALORIE              Aluminum Can                    16 OZ 1-Ls 24   \n",
       "4  REGULAR CALORIE   Plastic Bottle - Dimple                     2 LTR 1-Ls 8   \n",
       "\n",
       "   PHYSICAL_VOLUME  DISCOUNT  INVOICE_PRICE  DEAD_NET  GROSS_PROFIT_DEAD_NET  \\\n",
       "0             88.0   2246.40        2505.60   1924.70                1112.73   \n",
       "1             58.0   1197.12        1666.92   1468.77                 316.19   \n",
       "2            108.0   3429.00        1755.00   1499.03                 403.25   \n",
       "3             15.0    307.12         592.88    553.18                  77.90   \n",
       "4            195.0   3382.05        2077.95   1812.90                 661.21   \n",
       "\n",
       "      COGS  MIN_POSTING_DATE  MAX_POSTING_DATE  NUM_OF_TRANSACTIONS  \n",
       "0   682.41             44208             44925                  157  \n",
       "1  1185.98             44229             44925                   40  \n",
       "2  1107.73             44627             44925                   62  \n",
       "3   475.28             44721             44925                   17  \n",
       "4  1416.99             44201             44925                  166  "
      ]
     },
     "execution_count": 4,
     "metadata": {},
     "output_type": "execute_result"
    }
   ],
   "source": [
    "sales_df.head()"
   ]
  },
  {
   "cell_type": "markdown",
   "id": "6901f06d",
   "metadata": {},
   "source": [
    "### Merging Data"
   ]
  },
  {
   "cell_type": "code",
   "execution_count": 5,
   "id": "1aa67a29",
   "metadata": {},
   "outputs": [
    {
     "data": {
      "text/html": [
       "<div>\n",
       "<style scoped>\n",
       "    .dataframe tbody tr th:only-of-type {\n",
       "        vertical-align: middle;\n",
       "    }\n",
       "\n",
       "    .dataframe tbody tr th {\n",
       "        vertical-align: top;\n",
       "    }\n",
       "\n",
       "    .dataframe thead th {\n",
       "        text-align: right;\n",
       "    }\n",
       "</style>\n",
       "<table border=\"1\" class=\"dataframe\">\n",
       "  <thead>\n",
       "    <tr style=\"text-align: right;\">\n",
       "      <th></th>\n",
       "      <th>CUSTOMER_NUMBER_BLINDED</th>\n",
       "      <th>PRODUCT_SOLD_BLINDED</th>\n",
       "      <th>BEV_CAT_DESC</th>\n",
       "      <th>CALORIE_CAT_DESC</th>\n",
       "      <th>PACK_TYPE_DESC</th>\n",
       "      <th>PACK_SIZE_SALES_UNIT_DESCRIPTION</th>\n",
       "      <th>PHYSICAL_VOLUME</th>\n",
       "      <th>DISCOUNT</th>\n",
       "      <th>INVOICE_PRICE</th>\n",
       "      <th>DEAD_NET</th>\n",
       "      <th>...</th>\n",
       "      <th>COUNTY</th>\n",
       "      <th>GEO_LONGITUDE</th>\n",
       "      <th>GEO_LATITUDE</th>\n",
       "      <th>CUSTOMER_ACTIVITY_CLUSTER_DESCRIPTION</th>\n",
       "      <th>CUSTOMER_TRADE_CHANNEL_DESCRIPTION</th>\n",
       "      <th>CUSTOMER_SUB_TRADE_CHANNEL_DESCRIPTION</th>\n",
       "      <th>BUSINESS_TYPE_EXTENSION_DESCRIPTION</th>\n",
       "      <th>CUSTOMER_TRADE_CHANNEL_DESCRIPTION2</th>\n",
       "      <th>MARKET_DESCRIPTION</th>\n",
       "      <th>COLD_DRINK_CHANNEL_DESCRIPTION</th>\n",
       "    </tr>\n",
       "  </thead>\n",
       "  <tbody>\n",
       "    <tr>\n",
       "      <th>0</th>\n",
       "      <td>C0051046109640797</td>\n",
       "      <td>M056203880974</td>\n",
       "      <td>CORE SPARKLING</td>\n",
       "      <td>REGULAR CALORIE</td>\n",
       "      <td>Plastic Bottle - Contour</td>\n",
       "      <td>20 OZ 1-Ls 24</td>\n",
       "      <td>88.0</td>\n",
       "      <td>2246.40</td>\n",
       "      <td>2505.60</td>\n",
       "      <td>1924.70</td>\n",
       "      <td>...</td>\n",
       "      <td>MARICOPA</td>\n",
       "      <td>-111.895906</td>\n",
       "      <td>33.299225</td>\n",
       "      <td>Other Shopping &amp; Ser</td>\n",
       "      <td>General Merchandiser</td>\n",
       "      <td>Other General Mercha</td>\n",
       "      <td>DSD</td>\n",
       "      <td>General Merchandiser</td>\n",
       "      <td>FSOP</td>\n",
       "      <td>RETAIL</td>\n",
       "    </tr>\n",
       "    <tr>\n",
       "      <th>1</th>\n",
       "      <td>C0051046109640797</td>\n",
       "      <td>M083804460042</td>\n",
       "      <td>ENHANCED WATER BEVERAGES</td>\n",
       "      <td>REGULAR CALORIE</td>\n",
       "      <td>Plastic Bottle - Other</td>\n",
       "      <td>20 OZ 1-Ls 12</td>\n",
       "      <td>49.0</td>\n",
       "      <td>1154.52</td>\n",
       "      <td>987.48</td>\n",
       "      <td>825.74</td>\n",
       "      <td>...</td>\n",
       "      <td>MARICOPA</td>\n",
       "      <td>-111.895906</td>\n",
       "      <td>33.299225</td>\n",
       "      <td>Other Shopping &amp; Ser</td>\n",
       "      <td>General Merchandiser</td>\n",
       "      <td>Other General Mercha</td>\n",
       "      <td>DSD</td>\n",
       "      <td>General Merchandiser</td>\n",
       "      <td>FSOP</td>\n",
       "      <td>RETAIL</td>\n",
       "    </tr>\n",
       "    <tr>\n",
       "      <th>2</th>\n",
       "      <td>C0051046109640797</td>\n",
       "      <td>M080903130702</td>\n",
       "      <td>ENHANCED WATER BEVERAGES</td>\n",
       "      <td>LOW CALORIE</td>\n",
       "      <td>Plastic Bottle - Other</td>\n",
       "      <td>1 LTR 1-Ls 12</td>\n",
       "      <td>1.0</td>\n",
       "      <td>23.52</td>\n",
       "      <td>24.48</td>\n",
       "      <td>18.33</td>\n",
       "      <td>...</td>\n",
       "      <td>MARICOPA</td>\n",
       "      <td>-111.895906</td>\n",
       "      <td>33.299225</td>\n",
       "      <td>Other Shopping &amp; Ser</td>\n",
       "      <td>General Merchandiser</td>\n",
       "      <td>Other General Mercha</td>\n",
       "      <td>DSD</td>\n",
       "      <td>General Merchandiser</td>\n",
       "      <td>FSOP</td>\n",
       "      <td>RETAIL</td>\n",
       "    </tr>\n",
       "    <tr>\n",
       "      <th>3</th>\n",
       "      <td>C0051046109640797</td>\n",
       "      <td>M009208500468</td>\n",
       "      <td>ENHANCED WATER BEVERAGES</td>\n",
       "      <td>REGULAR CALORIE</td>\n",
       "      <td>Plastic Bottle - Other</td>\n",
       "      <td>20 OZ 1-Ls 12</td>\n",
       "      <td>0.0</td>\n",
       "      <td>0.00</td>\n",
       "      <td>0.00</td>\n",
       "      <td>0.21</td>\n",
       "      <td>...</td>\n",
       "      <td>MARICOPA</td>\n",
       "      <td>-111.895906</td>\n",
       "      <td>33.299225</td>\n",
       "      <td>Other Shopping &amp; Ser</td>\n",
       "      <td>General Merchandiser</td>\n",
       "      <td>Other General Mercha</td>\n",
       "      <td>DSD</td>\n",
       "      <td>General Merchandiser</td>\n",
       "      <td>FSOP</td>\n",
       "      <td>RETAIL</td>\n",
       "    </tr>\n",
       "    <tr>\n",
       "      <th>4</th>\n",
       "      <td>C0051046109640797</td>\n",
       "      <td>M029507850412</td>\n",
       "      <td>ENHANCED WATER BEVERAGES</td>\n",
       "      <td>LOW CALORIE</td>\n",
       "      <td>Plastic Bottle - Other</td>\n",
       "      <td>1 LTR 1-Ls 12</td>\n",
       "      <td>2.0</td>\n",
       "      <td>47.04</td>\n",
       "      <td>48.96</td>\n",
       "      <td>36.61</td>\n",
       "      <td>...</td>\n",
       "      <td>MARICOPA</td>\n",
       "      <td>-111.895906</td>\n",
       "      <td>33.299225</td>\n",
       "      <td>Other Shopping &amp; Ser</td>\n",
       "      <td>General Merchandiser</td>\n",
       "      <td>Other General Mercha</td>\n",
       "      <td>DSD</td>\n",
       "      <td>General Merchandiser</td>\n",
       "      <td>FSOP</td>\n",
       "      <td>RETAIL</td>\n",
       "    </tr>\n",
       "    <tr>\n",
       "      <th>...</th>\n",
       "      <td>...</td>\n",
       "      <td>...</td>\n",
       "      <td>...</td>\n",
       "      <td>...</td>\n",
       "      <td>...</td>\n",
       "      <td>...</td>\n",
       "      <td>...</td>\n",
       "      <td>...</td>\n",
       "      <td>...</td>\n",
       "      <td>...</td>\n",
       "      <td>...</td>\n",
       "      <td>...</td>\n",
       "      <td>...</td>\n",
       "      <td>...</td>\n",
       "      <td>...</td>\n",
       "      <td>...</td>\n",
       "      <td>...</td>\n",
       "      <td>...</td>\n",
       "      <td>...</td>\n",
       "      <td>...</td>\n",
       "      <td>...</td>\n",
       "    </tr>\n",
       "    <tr>\n",
       "      <th>831839</th>\n",
       "      <td>C0779075600590854</td>\n",
       "      <td>M093805490555</td>\n",
       "      <td>COFFEE</td>\n",
       "      <td>REGULAR CALORIE</td>\n",
       "      <td>Plastic Bottle - Other</td>\n",
       "      <td>13.7 OZ 1-Ls 12</td>\n",
       "      <td>0.0</td>\n",
       "      <td>0.00</td>\n",
       "      <td>0.00</td>\n",
       "      <td>0.00</td>\n",
       "      <td>...</td>\n",
       "      <td>LANE</td>\n",
       "      <td>-123.158000</td>\n",
       "      <td>44.062955</td>\n",
       "      <td>Third Party (Non-Con</td>\n",
       "      <td>All Other</td>\n",
       "      <td>B2B CONTRACTUAL DIST</td>\n",
       "      <td>Secondary Volume</td>\n",
       "      <td>All Other</td>\n",
       "      <td>ALL OTHER</td>\n",
       "      <td>WHOLESALE</td>\n",
       "    </tr>\n",
       "    <tr>\n",
       "      <th>831840</th>\n",
       "      <td>C0737058205910387</td>\n",
       "      <td>M093201520599</td>\n",
       "      <td>CORE SPARKLING</td>\n",
       "      <td>LOW CALORIE</td>\n",
       "      <td>Aluminum Can</td>\n",
       "      <td>12 OZ 12-Pk 24 Frid</td>\n",
       "      <td>0.0</td>\n",
       "      <td>0.00</td>\n",
       "      <td>0.00</td>\n",
       "      <td>0.00</td>\n",
       "      <td>...</td>\n",
       "      <td>MULTNOMAH</td>\n",
       "      <td>-122.679910</td>\n",
       "      <td>45.514470</td>\n",
       "      <td>Third Party (Non-Con</td>\n",
       "      <td>All Other</td>\n",
       "      <td>B2B CONTRACTUAL DIST</td>\n",
       "      <td>Secondary Volume</td>\n",
       "      <td>All Other</td>\n",
       "      <td>ALL OTHER</td>\n",
       "      <td>WHOLESALE</td>\n",
       "    </tr>\n",
       "    <tr>\n",
       "      <th>831841</th>\n",
       "      <td>C0733097206680354</td>\n",
       "      <td>M099404020717</td>\n",
       "      <td>CORE SPARKLING</td>\n",
       "      <td>REGULAR CALORIE</td>\n",
       "      <td>Aluminum Can</td>\n",
       "      <td>12 OZ 12-Pk 24 Frid</td>\n",
       "      <td>0.0</td>\n",
       "      <td>0.00</td>\n",
       "      <td>0.00</td>\n",
       "      <td>0.00</td>\n",
       "      <td>...</td>\n",
       "      <td>COCHISE</td>\n",
       "      <td>-109.870710</td>\n",
       "      <td>32.223515</td>\n",
       "      <td>Third Party (Non-Con</td>\n",
       "      <td>All Other</td>\n",
       "      <td>B2B CONTRACTUAL DIST</td>\n",
       "      <td>Secondary Volume</td>\n",
       "      <td>All Other</td>\n",
       "      <td>ALL OTHER</td>\n",
       "      <td>WHOLESALE</td>\n",
       "    </tr>\n",
       "    <tr>\n",
       "      <th>831842</th>\n",
       "      <td>C0623013105750204</td>\n",
       "      <td>M005008880997</td>\n",
       "      <td>PACKAGED WATER (PLAIN &amp; ENRICHED)</td>\n",
       "      <td>LOW CALORIE</td>\n",
       "      <td>Plastic Bottle - Other</td>\n",
       "      <td>16.9 OZ 32-Pk 32</td>\n",
       "      <td>0.0</td>\n",
       "      <td>0.00</td>\n",
       "      <td>0.00</td>\n",
       "      <td>0.00</td>\n",
       "      <td>...</td>\n",
       "      <td>WASHOE</td>\n",
       "      <td>-119.786958</td>\n",
       "      <td>39.478349</td>\n",
       "      <td>Eating &amp; Drinking</td>\n",
       "      <td>Full Service Restaur</td>\n",
       "      <td>FSR-All Other</td>\n",
       "      <td>Equipment Only</td>\n",
       "      <td>Full Service Restaur</td>\n",
       "      <td>FSOP</td>\n",
       "      <td>EATING/DRINKING</td>\n",
       "    </tr>\n",
       "    <tr>\n",
       "      <th>831843</th>\n",
       "      <td>C0160068705170267</td>\n",
       "      <td>M099807940026</td>\n",
       "      <td>CORE SPARKLING</td>\n",
       "      <td>LOW CALORIE</td>\n",
       "      <td>Aluminum Can</td>\n",
       "      <td>12 OZ 12-Pk 24 Frid</td>\n",
       "      <td>0.0</td>\n",
       "      <td>0.00</td>\n",
       "      <td>0.00</td>\n",
       "      <td>0.00</td>\n",
       "      <td>...</td>\n",
       "      <td>DOUGLAS</td>\n",
       "      <td>-119.938042</td>\n",
       "      <td>38.980396</td>\n",
       "      <td>Third Party (Non-Con</td>\n",
       "      <td>All Other</td>\n",
       "      <td>B2B CONTRACTUAL DIST</td>\n",
       "      <td>Secondary Volume</td>\n",
       "      <td>All Other</td>\n",
       "      <td>ALL OTHER</td>\n",
       "      <td>WHOLESALE</td>\n",
       "    </tr>\n",
       "  </tbody>\n",
       "</table>\n",
       "<p>831844 rows × 30 columns</p>\n",
       "</div>"
      ],
      "text/plain": [
       "       CUSTOMER_NUMBER_BLINDED PRODUCT_SOLD_BLINDED  \\\n",
       "0            C0051046109640797        M056203880974   \n",
       "1            C0051046109640797        M083804460042   \n",
       "2            C0051046109640797        M080903130702   \n",
       "3            C0051046109640797        M009208500468   \n",
       "4            C0051046109640797        M029507850412   \n",
       "...                        ...                  ...   \n",
       "831839       C0779075600590854        M093805490555   \n",
       "831840       C0737058205910387        M093201520599   \n",
       "831841       C0733097206680354        M099404020717   \n",
       "831842       C0623013105750204        M005008880997   \n",
       "831843       C0160068705170267        M099807940026   \n",
       "\n",
       "                             BEV_CAT_DESC CALORIE_CAT_DESC  \\\n",
       "0                          CORE SPARKLING  REGULAR CALORIE   \n",
       "1                ENHANCED WATER BEVERAGES  REGULAR CALORIE   \n",
       "2                ENHANCED WATER BEVERAGES      LOW CALORIE   \n",
       "3                ENHANCED WATER BEVERAGES  REGULAR CALORIE   \n",
       "4                ENHANCED WATER BEVERAGES      LOW CALORIE   \n",
       "...                                   ...              ...   \n",
       "831839                             COFFEE  REGULAR CALORIE   \n",
       "831840                     CORE SPARKLING      LOW CALORIE   \n",
       "831841                     CORE SPARKLING  REGULAR CALORIE   \n",
       "831842  PACKAGED WATER (PLAIN & ENRICHED)      LOW CALORIE   \n",
       "831843                     CORE SPARKLING      LOW CALORIE   \n",
       "\n",
       "                  PACK_TYPE_DESC PACK_SIZE_SALES_UNIT_DESCRIPTION  \\\n",
       "0       Plastic Bottle - Contour                    20 OZ 1-Ls 24   \n",
       "1         Plastic Bottle - Other                    20 OZ 1-Ls 12   \n",
       "2         Plastic Bottle - Other                    1 LTR 1-Ls 12   \n",
       "3         Plastic Bottle - Other                    20 OZ 1-Ls 12   \n",
       "4         Plastic Bottle - Other                    1 LTR 1-Ls 12   \n",
       "...                          ...                              ...   \n",
       "831839    Plastic Bottle - Other                  13.7 OZ 1-Ls 12   \n",
       "831840              Aluminum Can              12 OZ 12-Pk 24 Frid   \n",
       "831841              Aluminum Can              12 OZ 12-Pk 24 Frid   \n",
       "831842    Plastic Bottle - Other                 16.9 OZ 32-Pk 32   \n",
       "831843              Aluminum Can              12 OZ 12-Pk 24 Frid   \n",
       "\n",
       "        PHYSICAL_VOLUME  DISCOUNT  INVOICE_PRICE  DEAD_NET  ...     COUNTY  \\\n",
       "0                  88.0   2246.40        2505.60   1924.70  ...   MARICOPA   \n",
       "1                  49.0   1154.52         987.48    825.74  ...   MARICOPA   \n",
       "2                   1.0     23.52          24.48     18.33  ...   MARICOPA   \n",
       "3                   0.0      0.00           0.00      0.21  ...   MARICOPA   \n",
       "4                   2.0     47.04          48.96     36.61  ...   MARICOPA   \n",
       "...                 ...       ...            ...       ...  ...        ...   \n",
       "831839              0.0      0.00           0.00      0.00  ...       LANE   \n",
       "831840              0.0      0.00           0.00      0.00  ...  MULTNOMAH   \n",
       "831841              0.0      0.00           0.00      0.00  ...    COCHISE   \n",
       "831842              0.0      0.00           0.00      0.00  ...     WASHOE   \n",
       "831843              0.0      0.00           0.00      0.00  ...    DOUGLAS   \n",
       "\n",
       "        GEO_LONGITUDE  GEO_LATITUDE  CUSTOMER_ACTIVITY_CLUSTER_DESCRIPTION  \\\n",
       "0         -111.895906     33.299225                   Other Shopping & Ser   \n",
       "1         -111.895906     33.299225                   Other Shopping & Ser   \n",
       "2         -111.895906     33.299225                   Other Shopping & Ser   \n",
       "3         -111.895906     33.299225                   Other Shopping & Ser   \n",
       "4         -111.895906     33.299225                   Other Shopping & Ser   \n",
       "...               ...           ...                                    ...   \n",
       "831839    -123.158000     44.062955                   Third Party (Non-Con   \n",
       "831840    -122.679910     45.514470                   Third Party (Non-Con   \n",
       "831841    -109.870710     32.223515                   Third Party (Non-Con   \n",
       "831842    -119.786958     39.478349                      Eating & Drinking   \n",
       "831843    -119.938042     38.980396                   Third Party (Non-Con   \n",
       "\n",
       "        CUSTOMER_TRADE_CHANNEL_DESCRIPTION  \\\n",
       "0                     General Merchandiser   \n",
       "1                     General Merchandiser   \n",
       "2                     General Merchandiser   \n",
       "3                     General Merchandiser   \n",
       "4                     General Merchandiser   \n",
       "...                                    ...   \n",
       "831839                           All Other   \n",
       "831840                           All Other   \n",
       "831841                           All Other   \n",
       "831842                Full Service Restaur   \n",
       "831843                           All Other   \n",
       "\n",
       "       CUSTOMER_SUB_TRADE_CHANNEL_DESCRIPTION  \\\n",
       "0                        Other General Mercha   \n",
       "1                        Other General Mercha   \n",
       "2                        Other General Mercha   \n",
       "3                        Other General Mercha   \n",
       "4                        Other General Mercha   \n",
       "...                                       ...   \n",
       "831839                   B2B CONTRACTUAL DIST   \n",
       "831840                   B2B CONTRACTUAL DIST   \n",
       "831841                   B2B CONTRACTUAL DIST   \n",
       "831842                          FSR-All Other   \n",
       "831843                   B2B CONTRACTUAL DIST   \n",
       "\n",
       "       BUSINESS_TYPE_EXTENSION_DESCRIPTION  \\\n",
       "0                                      DSD   \n",
       "1                                      DSD   \n",
       "2                                      DSD   \n",
       "3                                      DSD   \n",
       "4                                      DSD   \n",
       "...                                    ...   \n",
       "831839                    Secondary Volume   \n",
       "831840                    Secondary Volume   \n",
       "831841                    Secondary Volume   \n",
       "831842                      Equipment Only   \n",
       "831843                    Secondary Volume   \n",
       "\n",
       "        CUSTOMER_TRADE_CHANNEL_DESCRIPTION2 MARKET_DESCRIPTION  \\\n",
       "0                      General Merchandiser               FSOP   \n",
       "1                      General Merchandiser               FSOP   \n",
       "2                      General Merchandiser               FSOP   \n",
       "3                      General Merchandiser               FSOP   \n",
       "4                      General Merchandiser               FSOP   \n",
       "...                                     ...                ...   \n",
       "831839                            All Other          ALL OTHER   \n",
       "831840                            All Other          ALL OTHER   \n",
       "831841                            All Other          ALL OTHER   \n",
       "831842                 Full Service Restaur               FSOP   \n",
       "831843                            All Other          ALL OTHER   \n",
       "\n",
       "       COLD_DRINK_CHANNEL_DESCRIPTION  \n",
       "0                              RETAIL  \n",
       "1                              RETAIL  \n",
       "2                              RETAIL  \n",
       "3                              RETAIL  \n",
       "4                              RETAIL  \n",
       "...                               ...  \n",
       "831839                      WHOLESALE  \n",
       "831840                      WHOLESALE  \n",
       "831841                      WHOLESALE  \n",
       "831842                EATING/DRINKING  \n",
       "831843                      WHOLESALE  \n",
       "\n",
       "[831844 rows x 30 columns]"
      ]
     },
     "execution_count": 5,
     "metadata": {},
     "output_type": "execute_result"
    }
   ],
   "source": [
    "swire_data = sales_df.merge(cus_df, on='CUSTOMER_NUMBER_BLINDED', how='inner')\n",
    "swire_data"
   ]
  },
  {
   "cell_type": "code",
   "execution_count": 6,
   "id": "5192ee4a",
   "metadata": {},
   "outputs": [
    {
     "data": {
      "text/plain": [
       "CUSTOMER_NUMBER_BLINDED                    object\n",
       "PRODUCT_SOLD_BLINDED                       object\n",
       "BEV_CAT_DESC                               object\n",
       "CALORIE_CAT_DESC                           object\n",
       "PACK_TYPE_DESC                             object\n",
       "PACK_SIZE_SALES_UNIT_DESCRIPTION           object\n",
       "PHYSICAL_VOLUME                           float64\n",
       "DISCOUNT                                  float64\n",
       "INVOICE_PRICE                             float64\n",
       "DEAD_NET                                  float64\n",
       "GROSS_PROFIT_DEAD_NET                     float64\n",
       "COGS                                      float64\n",
       "MIN_POSTING_DATE                            int64\n",
       "MAX_POSTING_DATE                            int64\n",
       "NUM_OF_TRANSACTIONS                         int64\n",
       "SALES_OFFICE_DESCRIPTION                   object\n",
       "DELIVERY_PLANT_DESCRIPTION                 object\n",
       "ON_BOARDING_DATE                            int64\n",
       "ADDRESS_CITY                               object\n",
       "ADDRESS_ZIP_CODE                           object\n",
       "COUNTY                                     object\n",
       "GEO_LONGITUDE                             float64\n",
       "GEO_LATITUDE                              float64\n",
       "CUSTOMER_ACTIVITY_CLUSTER_DESCRIPTION      object\n",
       "CUSTOMER_TRADE_CHANNEL_DESCRIPTION         object\n",
       "CUSTOMER_SUB_TRADE_CHANNEL_DESCRIPTION     object\n",
       "BUSINESS_TYPE_EXTENSION_DESCRIPTION        object\n",
       "CUSTOMER_TRADE_CHANNEL_DESCRIPTION2        object\n",
       "MARKET_DESCRIPTION                         object\n",
       "COLD_DRINK_CHANNEL_DESCRIPTION             object\n",
       "dtype: object"
      ]
     },
     "execution_count": 6,
     "metadata": {},
     "output_type": "execute_result"
    }
   ],
   "source": [
    "swire_data.dtypes"
   ]
  },
  {
   "cell_type": "markdown",
   "id": "68787e7b",
   "metadata": {},
   "source": [
    "### Checking for Duplicates"
   ]
  },
  {
   "cell_type": "code",
   "execution_count": 7,
   "id": "4267c7e0",
   "metadata": {},
   "outputs": [
    {
     "data": {
      "text/plain": [
       "0"
      ]
     },
     "execution_count": 7,
     "metadata": {},
     "output_type": "execute_result"
    }
   ],
   "source": [
    "swire_data.duplicated().sum()"
   ]
  },
  {
   "cell_type": "markdown",
   "id": "530cc1ca",
   "metadata": {},
   "source": [
    "### Summary Statistics of the data"
   ]
  },
  {
   "cell_type": "code",
   "execution_count": 8,
   "id": "dec601b4",
   "metadata": {},
   "outputs": [
    {
     "data": {
      "text/html": [
       "<div>\n",
       "<style scoped>\n",
       "    .dataframe tbody tr th:only-of-type {\n",
       "        vertical-align: middle;\n",
       "    }\n",
       "\n",
       "    .dataframe tbody tr th {\n",
       "        vertical-align: top;\n",
       "    }\n",
       "\n",
       "    .dataframe thead th {\n",
       "        text-align: right;\n",
       "    }\n",
       "</style>\n",
       "<table border=\"1\" class=\"dataframe\">\n",
       "  <thead>\n",
       "    <tr style=\"text-align: right;\">\n",
       "      <th></th>\n",
       "      <th>PHYSICAL_VOLUME</th>\n",
       "      <th>DISCOUNT</th>\n",
       "      <th>INVOICE_PRICE</th>\n",
       "      <th>DEAD_NET</th>\n",
       "      <th>GROSS_PROFIT_DEAD_NET</th>\n",
       "      <th>COGS</th>\n",
       "      <th>MIN_POSTING_DATE</th>\n",
       "      <th>MAX_POSTING_DATE</th>\n",
       "      <th>NUM_OF_TRANSACTIONS</th>\n",
       "      <th>ON_BOARDING_DATE</th>\n",
       "      <th>GEO_LONGITUDE</th>\n",
       "      <th>GEO_LATITUDE</th>\n",
       "    </tr>\n",
       "  </thead>\n",
       "  <tbody>\n",
       "    <tr>\n",
       "      <th>count</th>\n",
       "      <td>831844.000000</td>\n",
       "      <td>8.318440e+05</td>\n",
       "      <td>8.318440e+05</td>\n",
       "      <td>8.318440e+05</td>\n",
       "      <td>831844.000000</td>\n",
       "      <td>8.318440e+05</td>\n",
       "      <td>831844.000000</td>\n",
       "      <td>831844.000000</td>\n",
       "      <td>831844.000000</td>\n",
       "      <td>8.318440e+05</td>\n",
       "      <td>831844.000000</td>\n",
       "      <td>831844.000000</td>\n",
       "    </tr>\n",
       "    <tr>\n",
       "      <th>mean</th>\n",
       "      <td>36.216629</td>\n",
       "      <td>1.003791e+03</td>\n",
       "      <td>9.264490e+02</td>\n",
       "      <td>8.452765e+02</td>\n",
       "      <td>294.968306</td>\n",
       "      <td>5.802669e+02</td>\n",
       "      <td>44423.543890</td>\n",
       "      <td>44751.825311</td>\n",
       "      <td>21.227132</td>\n",
       "      <td>4.151462e+04</td>\n",
       "      <td>-114.071501</td>\n",
       "      <td>40.844303</td>\n",
       "    </tr>\n",
       "    <tr>\n",
       "      <th>std</th>\n",
       "      <td>564.497164</td>\n",
       "      <td>1.333821e+04</td>\n",
       "      <td>8.980693e+03</td>\n",
       "      <td>7.750886e+03</td>\n",
       "      <td>2631.942989</td>\n",
       "      <td>5.575562e+03</td>\n",
       "      <td>215.662813</td>\n",
       "      <td>215.170246</td>\n",
       "      <td>33.455899</td>\n",
       "      <td>7.099246e+03</td>\n",
       "      <td>6.239538</td>\n",
       "      <td>5.026316</td>\n",
       "    </tr>\n",
       "    <tr>\n",
       "      <th>min</th>\n",
       "      <td>-65832.000000</td>\n",
       "      <td>-1.390200e+04</td>\n",
       "      <td>-2.298240e+04</td>\n",
       "      <td>-3.453411e+04</td>\n",
       "      <td>-145562.380000</td>\n",
       "      <td>-7.392340e+03</td>\n",
       "      <td>44198.000000</td>\n",
       "      <td>44198.000000</td>\n",
       "      <td>1.000000</td>\n",
       "      <td>2.979900e+04</td>\n",
       "      <td>-124.590450</td>\n",
       "      <td>0.000000</td>\n",
       "    </tr>\n",
       "    <tr>\n",
       "      <th>25%</th>\n",
       "      <td>1.000000</td>\n",
       "      <td>1.764000e+01</td>\n",
       "      <td>3.110000e+01</td>\n",
       "      <td>2.928000e+01</td>\n",
       "      <td>8.620000</td>\n",
       "      <td>1.246000e+01</td>\n",
       "      <td>44236.000000</td>\n",
       "      <td>44617.000000</td>\n",
       "      <td>2.000000</td>\n",
       "      <td>3.995900e+04</td>\n",
       "      <td>-121.301071</td>\n",
       "      <td>37.678385</td>\n",
       "    </tr>\n",
       "    <tr>\n",
       "      <th>50%</th>\n",
       "      <td>5.000000</td>\n",
       "      <td>9.000000e+01</td>\n",
       "      <td>1.367900e+02</td>\n",
       "      <td>1.300000e+02</td>\n",
       "      <td>44.800000</td>\n",
       "      <td>7.270000e+01</td>\n",
       "      <td>44349.000000</td>\n",
       "      <td>44860.000000</td>\n",
       "      <td>7.000000</td>\n",
       "      <td>4.250600e+04</td>\n",
       "      <td>-112.036835</td>\n",
       "      <td>40.605505</td>\n",
       "    </tr>\n",
       "    <tr>\n",
       "      <th>75%</th>\n",
       "      <td>17.000000</td>\n",
       "      <td>4.134000e+02</td>\n",
       "      <td>5.234200e+02</td>\n",
       "      <td>5.000000e+02</td>\n",
       "      <td>181.940000</td>\n",
       "      <td>2.976700e+02</td>\n",
       "      <td>44593.000000</td>\n",
       "      <td>44925.000000</td>\n",
       "      <td>24.000000</td>\n",
       "      <td>4.385700e+04</td>\n",
       "      <td>-110.976735</td>\n",
       "      <td>45.514964</td>\n",
       "    </tr>\n",
       "    <tr>\n",
       "      <th>max</th>\n",
       "      <td>136349.000000</td>\n",
       "      <td>2.847662e+06</td>\n",
       "      <td>1.813004e+06</td>\n",
       "      <td>1.813004e+06</td>\n",
       "      <td>883618.130000</td>\n",
       "      <td>1.370468e+06</td>\n",
       "      <td>44925.000000</td>\n",
       "      <td>44926.000000</td>\n",
       "      <td>468.000000</td>\n",
       "      <td>2.958465e+06</td>\n",
       "      <td>0.000000</td>\n",
       "      <td>49.002050</td>\n",
       "    </tr>\n",
       "  </tbody>\n",
       "</table>\n",
       "</div>"
      ],
      "text/plain": [
       "       PHYSICAL_VOLUME      DISCOUNT  INVOICE_PRICE      DEAD_NET  \\\n",
       "count    831844.000000  8.318440e+05   8.318440e+05  8.318440e+05   \n",
       "mean         36.216629  1.003791e+03   9.264490e+02  8.452765e+02   \n",
       "std         564.497164  1.333821e+04   8.980693e+03  7.750886e+03   \n",
       "min      -65832.000000 -1.390200e+04  -2.298240e+04 -3.453411e+04   \n",
       "25%           1.000000  1.764000e+01   3.110000e+01  2.928000e+01   \n",
       "50%           5.000000  9.000000e+01   1.367900e+02  1.300000e+02   \n",
       "75%          17.000000  4.134000e+02   5.234200e+02  5.000000e+02   \n",
       "max      136349.000000  2.847662e+06   1.813004e+06  1.813004e+06   \n",
       "\n",
       "       GROSS_PROFIT_DEAD_NET          COGS  MIN_POSTING_DATE  \\\n",
       "count          831844.000000  8.318440e+05     831844.000000   \n",
       "mean              294.968306  5.802669e+02      44423.543890   \n",
       "std              2631.942989  5.575562e+03        215.662813   \n",
       "min           -145562.380000 -7.392340e+03      44198.000000   \n",
       "25%                 8.620000  1.246000e+01      44236.000000   \n",
       "50%                44.800000  7.270000e+01      44349.000000   \n",
       "75%               181.940000  2.976700e+02      44593.000000   \n",
       "max            883618.130000  1.370468e+06      44925.000000   \n",
       "\n",
       "       MAX_POSTING_DATE  NUM_OF_TRANSACTIONS  ON_BOARDING_DATE  GEO_LONGITUDE  \\\n",
       "count     831844.000000        831844.000000      8.318440e+05  831844.000000   \n",
       "mean       44751.825311            21.227132      4.151462e+04    -114.071501   \n",
       "std          215.170246            33.455899      7.099246e+03       6.239538   \n",
       "min        44198.000000             1.000000      2.979900e+04    -124.590450   \n",
       "25%        44617.000000             2.000000      3.995900e+04    -121.301071   \n",
       "50%        44860.000000             7.000000      4.250600e+04    -112.036835   \n",
       "75%        44925.000000            24.000000      4.385700e+04    -110.976735   \n",
       "max        44926.000000           468.000000      2.958465e+06       0.000000   \n",
       "\n",
       "        GEO_LATITUDE  \n",
       "count  831844.000000  \n",
       "mean       40.844303  \n",
       "std         5.026316  \n",
       "min         0.000000  \n",
       "25%        37.678385  \n",
       "50%        40.605505  \n",
       "75%        45.514964  \n",
       "max        49.002050  "
      ]
     },
     "execution_count": 8,
     "metadata": {},
     "output_type": "execute_result"
    }
   ],
   "source": [
    "swire_data.describe()"
   ]
  },
  {
   "cell_type": "markdown",
   "id": "09b423e2",
   "metadata": {},
   "source": [
    "### Exploratory Questions:\n",
    "\n",
    "#### 1. If more discounts are provided to the customers, Are they capable enough of gaining more profits?\n",
    "#### 2. Which customers are able to sell goods faster?\n",
    "#### 3. Which beverage, calorie type has the highest market?\n",
    "#### 4. Which Trade Channel is swire making most of the business?\n",
    "#### 5. Which Cities has the highest number of business with Swire?"
   ]
  },
  {
   "cell_type": "markdown",
   "id": "36a91c07",
   "metadata": {},
   "source": [
    "### Metric 1: Identifying the correlation between Discounts and Profits"
   ]
  },
  {
   "cell_type": "code",
   "execution_count": 9,
   "id": "91bbb2c4",
   "metadata": {},
   "outputs": [],
   "source": [
    "avg_discount = swire_data['DISCOUNT'].mean()\n",
    "avg_profit = swire_data['GROSS_PROFIT_DEAD_NET'].mean()"
   ]
  },
  {
   "cell_type": "code",
   "execution_count": 10,
   "id": "3c17d1b9",
   "metadata": {},
   "outputs": [],
   "source": [
    "dis = swire_data.groupby('DISCOUNT').mean()"
   ]
  },
  {
   "cell_type": "code",
   "execution_count": 11,
   "id": "2ec77ec1",
   "metadata": {},
   "outputs": [
    {
     "data": {
      "image/png": "[encoded data removed]",
      "text/plain": [
       "<Figure size 640x480 with 1 Axes>"
      ]
     },
     "metadata": {},
     "output_type": "display_data"
    }
   ],
   "source": [
    "# Scatter plot to visualize the relationship between discounts and profits. \n",
    "\n",
    "plt.scatter(swire_data['DISCOUNT'], swire_data['GROSS_PROFIT_DEAD_NET'])\n",
    "plt.xlabel('Discount')\n",
    "plt.ylabel('Profit')\n",
    "plt.title('Correlation Plot for Discounts and Profits')\n",
    "plt.show()"
   ]
  },
  {
   "cell_type": "code",
   "execution_count": 12,
   "id": "828f5914",
   "metadata": {},
   "outputs": [
    {
     "name": "stdout",
     "output_type": "stream",
     "text": [
      "Correlation coefficient: 0.658\n"
     ]
    }
   ],
   "source": [
    "corr, _ = pearsonr(swire_data['DISCOUNT'], swire_data['GROSS_PROFIT_DEAD_NET'])\n",
    "print('Correlation coefficient: %.3f' % corr)"
   ]
  },
  {
   "cell_type": "markdown",
   "id": "f3cd9591",
   "metadata": {},
   "source": [
    "### Metric 1 Result\n",
    "\n",
    "#### The main reason to check the correlation between discounts and profits are as follows:\n",
    "#### 1. If the correlation coefficient is positive it indicates that the discounts and profits are positively related. It also indicates that if discounts are high the profits are also high.\n",
    "\n",
    "#### 2. If the correlation coefficient is negative it indicates that the discounts and profits are negatively related. It also indicates that discounts are high but profits are not high for the customer."
   ]
  },
  {
   "cell_type": "markdown",
   "id": "a5770d07",
   "metadata": {},
   "source": [
    "### Metric 2: Customers with cost of goods sold in less time."
   ]
  },
  {
   "cell_type": "code",
   "execution_count": 13,
   "id": "290c5577",
   "metadata": {},
   "outputs": [],
   "source": [
    "# Converting the date columns to datetime objects\n",
    "\n",
    "swire_data['MIN_POSTING_DATE'] = pd.to_datetime(swire_data['MIN_POSTING_DATE'])\n",
    "swire_data['MAX_POSTING_DATE'] = pd.to_datetime(swire_data['MAX_POSTING_DATE'])"
   ]
  },
  {
   "cell_type": "code",
   "execution_count": 14,
   "id": "cc9d1026",
   "metadata": {},
   "outputs": [],
   "source": [
    "# Calculate the time difference for each customer\n",
    "\n",
    "swire_data['time_difference'] = (swire_data['MAX_POSTING_DATE'] - swire_data['MIN_POSTING_DATE']).dt.days"
   ]
  },
  {
   "cell_type": "code",
   "execution_count": 15,
   "id": "db627e09",
   "metadata": {},
   "outputs": [],
   "source": [
    "# Calculate the total cost of goods sold for each customer\n",
    "\n",
    "total_costs = swire_data.groupby('CUSTOMER_NUMBER_BLINDED')['COGS'].sum()"
   ]
  },
  {
   "cell_type": "code",
   "execution_count": 16,
   "id": "b92ca428",
   "metadata": {},
   "outputs": [],
   "source": [
    "# Divide the total cost of goods sold by the time difference for each customer\n",
    "\n",
    "costs_per_day = total_costs / swire_data.groupby('CUSTOMER_NUMBER_BLINDED')['time_difference'].max()"
   ]
  },
  {
   "cell_type": "code",
   "execution_count": 17,
   "id": "86e8634c",
   "metadata": {},
   "outputs": [],
   "source": [
    "# Sort the results in descending order\n",
    "\n",
    "costs_per_day = costs_per_day.sort_values(ascending=False)"
   ]
  },
  {
   "cell_type": "code",
   "execution_count": 18,
   "id": "73e52331",
   "metadata": {},
   "outputs": [
    {
     "name": "stdout",
     "output_type": "stream",
     "text": [
      "Index(['C0001005009010198', 'C0670035904880526', 'C0670059902000159',\n",
      "       'C0670059804470675', 'C0670059603590270', 'C0670059502540690',\n",
      "       'C0670059106930479', 'C0670055500820756', 'C0670053903570761',\n",
      "       'C0670049704850097', 'C0670041807560383', 'C0670041208950499',\n",
      "       'C0670039404230494', 'C0670039008190169', 'C0670038204990962',\n",
      "       'C0670036307150519', 'C0670034709570501', 'C0670064509250943',\n",
      "       'C0670032502330081', 'C0670031305690557'],\n",
      "      dtype='object', name='CUSTOMER_NUMBER_BLINDED')\n"
     ]
    }
   ],
   "source": [
    "# Print the top 20 customers with the highest cost of goods sold per day\n",
    "\n",
    "print(costs_per_day.index[0:20])"
   ]
  },
  {
   "cell_type": "markdown",
   "id": "aad82a82",
   "metadata": {},
   "source": [
    "### Metric 2 Result\n",
    "#### The main reason to check the customers with the cost of goods sold in less time is as follows:\n",
    "#### 1. To identify the customers which are able to sell goods faster in a less span of time. This metric will enable us to know and predict which business are capable enough to make more profits and sales. So that business can be done with that customer."
   ]
  },
  {
   "cell_type": "markdown",
   "id": "7e021407",
   "metadata": {},
   "source": [
    "### Metric 3: Beverages, Calorie Type that has more market."
   ]
  },
  {
   "cell_type": "code",
   "execution_count": 19,
   "id": "ec411974",
   "metadata": {},
   "outputs": [],
   "source": [
    "# Group the data by the beverage type and count the number of occurencies of each beverage count\n",
    "\n",
    "bev_counts = swire_data.groupby('BEV_CAT_DESC')['BEV_CAT_DESC'].count()"
   ]
  },
  {
   "cell_type": "code",
   "execution_count": 20,
   "id": "aaed99ed",
   "metadata": {},
   "outputs": [],
   "source": [
    "# Sort the results in descending order\n",
    "\n",
    "bev_counts = bev_counts.sort_values(ascending=False)"
   ]
  },
  {
   "cell_type": "code",
   "execution_count": 21,
   "id": "667959ed",
   "metadata": {},
   "outputs": [],
   "source": [
    "# Top Beverages\n",
    "\n",
    "top_bev = bev_counts[:]"
   ]
  },
  {
   "cell_type": "code",
   "execution_count": 22,
   "id": "ec21675f",
   "metadata": {},
   "outputs": [
    {
     "data": {
      "image/png": "[encoded data removed]",
      "text/plain": [
       "<Figure size 640x480 with 1 Axes>"
      ]
     },
     "metadata": {},
     "output_type": "display_data"
    }
   ],
   "source": [
    "# Bar Plot\n",
    "\n",
    "top_bev.plot(kind='bar')\n",
    "plt.title('Top Bev Types')\n",
    "plt.xlabel('Calorie Type')\n",
    "plt.ylabel('Count')\n",
    "plt.show()"
   ]
  },
  {
   "cell_type": "markdown",
   "id": "d38533b0",
   "metadata": {},
   "source": [
    "### Calorie Type"
   ]
  },
  {
   "cell_type": "code",
   "execution_count": 23,
   "id": "5d242d24",
   "metadata": {},
   "outputs": [],
   "source": [
    "# Group the data by the calorie type and count the number of occurencies of each calorie count\n",
    "\n",
    "calorie_counts = swire_data.groupby('CALORIE_CAT_DESC')['CALORIE_CAT_DESC'].count()\n",
    "\n",
    "# Sort the results in descending order\n",
    "\n",
    "calorie_counts = calorie_counts.sort_values(ascending=False)\n",
    "\n",
    "top_calorie = calorie_counts[:10]"
   ]
  },
  {
   "cell_type": "code",
   "execution_count": 24,
   "id": "26edbe1a",
   "metadata": {},
   "outputs": [
    {
     "data": {
      "image/png": "[encoded data removed]",
      "text/plain": [
       "<Figure size 640x480 with 1 Axes>"
      ]
     },
     "metadata": {},
     "output_type": "display_data"
    }
   ],
   "source": [
    "#Bar Plot\n",
    "\n",
    "top_calorie.plot(kind='bar')\n",
    "plt.title('Top Calorie Types')\n",
    "plt.xlabel('Calorie Type')\n",
    "plt.ylabel('Count')\n",
    "plt.show()"
   ]
  },
  {
   "cell_type": "markdown",
   "id": "aaf64bb2",
   "metadata": {},
   "source": [
    "### Metric 3 Result\n",
    "#### The main reason to check the beverages that has more market as follows:\n",
    "#### 1. This metric will help us to understand that new customers who are trying to do business for these beverages can be given priority. As these beverages already has demand in the market, so new customers also will be able to sell the beverages easily and gain good profits."
   ]
  },
  {
   "cell_type": "markdown",
   "id": "81e7397c",
   "metadata": {},
   "source": [
    "### Metric 4: Trade Channel that swire makes most of the business."
   ]
  },
  {
   "cell_type": "code",
   "execution_count": 25,
   "id": "22cac242",
   "metadata": {},
   "outputs": [],
   "source": [
    "# Group the data by the trade channel and count the number of occurencies of each trade channel\n",
    "\n",
    "trade_channel = swire_data.groupby('CUSTOMER_TRADE_CHANNEL_DESCRIPTION')['CUSTOMER_TRADE_CHANNEL_DESCRIPTION'].count()"
   ]
  },
  {
   "cell_type": "code",
   "execution_count": 26,
   "id": "ca3cb419",
   "metadata": {},
   "outputs": [],
   "source": [
    "# Sort the results in descending order\n",
    "\n",
    "trade_counts = trade_channel.sort_values(ascending=False)"
   ]
  },
  {
   "cell_type": "code",
   "execution_count": 27,
   "id": "9c759e9a",
   "metadata": {},
   "outputs": [],
   "source": [
    "# Top Trade Channel\n",
    "\n",
    "top_trade = trade_counts[:]"
   ]
  },
  {
   "cell_type": "code",
   "execution_count": 28,
   "id": "9634b3ec",
   "metadata": {},
   "outputs": [
    {
     "data": {
      "image/png": "[encoded data removed]",
      "text/plain": [
       "<Figure size 640x480 with 1 Axes>"
      ]
     },
     "metadata": {},
     "output_type": "display_data"
    }
   ],
   "source": [
    "# Bar Plot\n",
    "\n",
    "top_trade.plot(kind='bar')\n",
    "plt.title('Trade Channel')\n",
    "plt.xlabel('Trade Channel Type')\n",
    "plt.ylabel('Count')\n",
    "plt.show()"
   ]
  },
  {
   "cell_type": "markdown",
   "id": "ec8a4cdf",
   "metadata": {},
   "source": [
    "### Metric 5: Cities that has the highest number of business with Swire"
   ]
  },
  {
   "cell_type": "code",
   "execution_count": 29,
   "id": "e784a307",
   "metadata": {},
   "outputs": [],
   "source": [
    "# Group the data by the city and count the number of occurencies of each city\n",
    "\n",
    "city_counts = swire_data.groupby('ADDRESS_CITY')['ADDRESS_CITY'].count()"
   ]
  },
  {
   "cell_type": "code",
   "execution_count": 30,
   "id": "ed0137c4",
   "metadata": {},
   "outputs": [],
   "source": [
    "# Sort the results in descending order\n",
    "\n",
    "city_counts = city_counts.sort_values(ascending=False)"
   ]
  },
  {
   "cell_type": "code",
   "execution_count": 31,
   "id": "610af0b5",
   "metadata": {},
   "outputs": [],
   "source": [
    "# Top 10 Cities\n",
    "\n",
    "top_10_cities = city_counts[:10]"
   ]
  },
  {
   "cell_type": "code",
   "execution_count": 32,
   "id": "080f96fa",
   "metadata": {},
   "outputs": [
    {
     "data": {
      "image/png": "[encoded data removed]",
      "text/plain": [
       "<Figure size 640x480 with 1 Axes>"
      ]
     },
     "metadata": {},
     "output_type": "display_data"
    }
   ],
   "source": [
    "# Bar Plot\n",
    "\n",
    "top_10_cities.plot(kind='bar')\n",
    "plt.title('Top 10 Cities')\n",
    "plt.xlabel('Cities')\n",
    "plt.ylabel('Count')\n",
    "plt.show()"
   ]
  },
  {
   "cell_type": "markdown",
   "id": "a2c2a59b",
   "metadata": {},
   "source": [
    "### Metric 5 Result\n",
    "#### The main reason to check the top cities that swire makes most business with are as follows:\n",
    "#### 1. This metric will help us to understand which cities does Swire do the most business with. so that, they can confidently partner with new customers from that city."
   ]
  },
  {
   "cell_type": "markdown",
   "id": "b8d15818",
   "metadata": {},
   "source": [
    "## Overall Results\n",
    "\n",
    "#### I observed that the customers who were offered with more discounts have gotten more profits. As the correlation coefficient is positive. So, customers offered with more discounts are capable of gaining profits.\n",
    "#### Customers who have sold their goods in less span of time are capable of selling more than expected amount of products. \n",
    "#### Simultaneously, knowing the type of beverages, calorie type, highest trade channel, top most cities will help Swire to understand what is the market popular for and the top cities where the business is in demand.\n",
    "\n",
    "#### The above results are my observations from the data provided."
   ]
  },
  {
   "cell_type": "markdown",
   "id": "c5b387e3",
   "metadata": {},
   "source": [
    "## 3. Modeling "
   ]
  },
  {
   "cell_type": "markdown",
   "id": "aac4bfb2",
   "metadata": {},
   "source": [
    "### 3.1 Data Preparation and Feature Engineering"
   ]
  },
  {
   "cell_type": "code",
   "execution_count": 78,
   "id": "f2914736",
   "metadata": {},
   "outputs": [],
   "source": [
    "##Creating empty array's\n",
    "\n",
    "reg=[]\n",
    "r2_score=[]\n",
    "mean_square_error=[]\n",
    "root_mean_square_error=[]\n",
    "\n",
    "#fetching and re-arranging the dataset\n",
    "\n",
    "dataset = sales_df\n",
    "\n",
    "X = dataset.iloc[:1000, 0:2].values\n",
    "X_extra = dataset.iloc[:1000, 6:12]\n",
    "y = dataset.iloc[:1000,10:11 ].values"
   ]
  },
  {
   "cell_type": "code",
   "execution_count": 140,
   "id": "7d7af005",
   "metadata": {
    "scrolled": true
   },
   "outputs": [],
   "source": [
    "#Encoding string datatypes\n",
    "\n",
    "from sklearn.preprocessing import LabelEncoder, OneHotEncoder\n",
    "\n",
    "le = LabelEncoder()\n",
    "\n",
    "X[:,0] = le.fit_transform(X[:,0])\n",
    "X_new = pd.get_dummies(X[:,0])"
   ]
  },
  {
   "cell_type": "code",
   "execution_count": 80,
   "id": "a744019f",
   "metadata": {},
   "outputs": [],
   "source": [
    "#merging of dummies and 6-12 dolumns \n",
    "\n",
    "X_new1 = pd.concat([X_new, X_extra], axis=\"columns\" )"
   ]
  },
  {
   "cell_type": "code",
   "execution_count": 146,
   "id": "eea44d9f",
   "metadata": {},
   "outputs": [
    {
     "name": "stderr",
     "output_type": "stream",
     "text": [
      "/Users/msdta/opt/anaconda3/lib/python3.9/site-packages/sklearn/utils/validation.py:1688: FutureWarning: Feature names only support names that are all strings. Got feature names with dtypes: ['int', 'str']. An error will be raised in 1.2.\n",
      "  warnings.warn(\n",
      "/Users/msdta/opt/anaconda3/lib/python3.9/site-packages/sklearn/utils/validation.py:1688: FutureWarning: Feature names only support names that are all strings. Got feature names with dtypes: ['int', 'str']. An error will be raised in 1.2.\n",
      "  warnings.warn(\n"
     ]
    }
   ],
   "source": [
    "#Feature scaling\n",
    "\n",
    "from sklearn.preprocessing import StandardScaler\n",
    "\n",
    "sc_X = StandardScaler()\n",
    "sc_y = StandardScaler()\n",
    "\n",
    "X1 = sc_X.fit_transform(X_new1)\n",
    "y1 = sc_y.fit_transform(y)\n",
    "\n",
    "\n",
    "X_train, X_test, y_train, y_test = train_test_split(X1, y1, test_size = 0.2) \n"
   ]
  },
  {
   "cell_type": "markdown",
   "id": "00d5e6a4",
   "metadata": {},
   "source": [
    "### 3.2 Modeling Process"
   ]
  },
  {
   "cell_type": "markdown",
   "id": "955c7a3d",
   "metadata": {},
   "source": [
    "### The models I considered are as follows:\n",
    "#### - Linear Regression\n",
    "#### - K-nearesr neighbour\n",
    "#### - Decision Trees\n",
    "\n"
   ]
  },
  {
   "cell_type": "markdown",
   "id": "9ef5b62d",
   "metadata": {},
   "source": [
    "#### ~ Model Accuracy : The accuracy is a measure of how well the model predicted the correct labels of the test data.\n",
    "\n",
    "#### ~ Cross Validation : Cross-validation is a technique used to estimate the performance of a machine learning model on an independent dataset, which can be helpful in assessing how well the model will generalize to new, unseen data. In the below models I've used K-fold cross validation. cross_val_score() function is used to calculate the accuracy of the model on the training data X_train and y_train using 3-fold cross-validation.\n",
    "\n",
    "#### ~ Model Tuning : Model tuning, also known as hyperparameter tuning, refers to the process of optimizing the performance of a machine learning model by finding the best values for its hyperparameters."
   ]
  },
  {
   "cell_type": "markdown",
   "id": "9c5298b4",
   "metadata": {},
   "source": [
    "#### Output Variable : GROSS_PROFIT_DEAD_NET"
   ]
  },
  {
   "cell_type": "markdown",
   "id": "d574cb13",
   "metadata": {},
   "source": [
    "### 3.2a Model 1: Linear Regression (Model Fit, Model Accuracy, Cross Validation, Model Tuning)\n",
    "\n",
    "\n",
    "#### Linear regression is one of the easiest and most popular Machine Learning algorithms. It is a statistical method that is used for predictive analysis which makes predictions for continuous/real or numeric variables.Linear regression algorithm shows a linear relationship between a dependent (y) and one or more independent (y) variables, hence called as linear regression"
   ]
  },
  {
   "cell_type": "code",
   "execution_count": 83,
   "id": "2a4e96c1",
   "metadata": {},
   "outputs": [],
   "source": [
    "#Simple LR FIT\n",
    "\n",
    "# importing module\n",
    "\n",
    "from sklearn.linear_model import LinearRegression\n",
    "\n",
    "LR = LinearRegression()\n",
    "\n",
    "# fitting the training data\n",
    "\n",
    "LR.fit(X_train,y_train)\n",
    "\n",
    "y_pred1 =  LR.predict(X_test)\n",
    "y_pred1 = sc_y.inverse_transform(y_pred1) \n",
    "y_test1=sc_y.inverse_transform(y_test)"
   ]
  },
  {
   "cell_type": "code",
   "execution_count": 122,
   "id": "d8044714",
   "metadata": {},
   "outputs": [
    {
     "name": "stdout",
     "output_type": "stream",
     "text": [
      "r2 score is  0.9752735402555742\n",
      "mean_sqrd_error is== 680333.17584597\n",
      "root_mean_squared error of is== 824.8231179143623\n"
     ]
    }
   ],
   "source": [
    "# predicting the accuracy score\n",
    "\n",
    "score=r2_score(y_test1,y_pred1)\n",
    "\n",
    "# printing r2 score\n",
    "print('r2 score is ',score)\n",
    "\n",
    "# printing mean squared error\n",
    "print('mean_sqrd_error is==',mean_squared_error(y_test1,y_pred1))\n",
    "\n",
    "# printing root mean squared error\n",
    "print('root_mean_squared error of is==',np.sqrt(mean_squared_error(y_test1,y_pred1)))"
   ]
  },
  {
   "cell_type": "code",
   "execution_count": 121,
   "id": "b812ed6a",
   "metadata": {},
   "outputs": [
    {
     "name": "stdout",
     "output_type": "stream",
     "text": [
      "[0.87854734 0.99361834 0.8991914 ]\n",
      "0.923785690950468\n"
     ]
    }
   ],
   "source": [
    "#cross validation\n",
    "LR_accuracies = cross_val_score(estimator = LR, X = X_train, y = y_train, cv = 3)\n",
    "print(LR_accuracies)\n",
    "\n",
    "print(LR_accuracies.mean())"
   ]
  },
  {
   "cell_type": "code",
   "execution_count": 115,
   "id": "c1770e66",
   "metadata": {},
   "outputs": [],
   "source": [
    "# defining plot graph\n",
    "def plotGraph(y_test,y_pred,regressorName):\n",
    "    if max(y_test) >= max(y_pred):\n",
    "        my_range = int(max(y_test))\n",
    "    else:\n",
    "        my_range = int(max(y_pred))\n",
    "    plt.scatter(y_test, y_pred, color='red')\n",
    "    plt.plot(range(my_range), range(my_range), 'o')\n",
    "    plt.title(regressorName)\n",
    "    plt.show()\n",
    "    return"
   ]
  },
  {
   "cell_type": "code",
   "execution_count": 116,
   "id": "a58ea396",
   "metadata": {},
   "outputs": [
    {
     "data": {
      "image/png": "[encoded data removed]",
      "text/plain": [
       "<Figure size 640x480 with 1 Axes>"
      ]
     },
     "metadata": {},
     "output_type": "display_data"
    },
    {
     "data": {
      "image/png": "[encoded data removed]",
      "text/plain": [
       "<Figure size 640x480 with 1 Axes>"
      ]
     },
     "metadata": {},
     "output_type": "display_data"
    }
   ],
   "source": [
    "#Plotting model fitting\n",
    "\n",
    "plotGraph(y_test1, y_pred1, 'LR Fit')\n",
    "plt.scatter(y_test1,y_pred1,color='g',marker='*', alpha=0.6, s=100,label='LR Y pred')\n",
    "plt.xlabel('y_test')\n",
    "plt.ylabel('y_pred1')\n",
    "plt.legend()\n",
    "plt.grid()"
   ]
  },
  {
   "cell_type": "markdown",
   "id": "39362351",
   "metadata": {},
   "source": [
    "### 3.2b Model 2: KNN - K- Nearest Neighbours (Model Fit, Model Accuracy, Cross Validation, Model Tuning)\n",
    "\n",
    "#### K-Nearest Neighbors is one of the simplest supervised machine learning algorithms used for classification. It classifies a data point based on its neighbors’ classifications. It stores all available cases and classifies new cases based on similar features."
   ]
  },
  {
   "cell_type": "code",
   "execution_count": 123,
   "id": "92c6e4c3",
   "metadata": {},
   "outputs": [],
   "source": [
    "#KNN model\n",
    "\n",
    "from sklearn import neighbors\n",
    "\n",
    "knn= neighbors.KNeighborsRegressor(n_neighbors = 9)\n",
    "knn.fit(X_train, y_train)  \n",
    "y_pred= knn.predict(X_test)\n",
    "y_pred2 = sc_y.inverse_transform(y_pred) "
   ]
  },
  {
   "cell_type": "code",
   "execution_count": 124,
   "id": "6293befc",
   "metadata": {},
   "outputs": [
    {
     "name": "stdout",
     "output_type": "stream",
     "text": [
      "r2 score is  0.2625598727965843\n",
      "mean_sqrd_error is== 20290206.884536203\n",
      "root_mean_squared error of is== 4504.465216264435\n"
     ]
    }
   ],
   "source": [
    "# predicting the accuracy score\n",
    "score=r2_score(y_test1,y_pred2)\n",
    "print('r2 score is ',score)\n",
    "print('mean_sqrd_error is==',mean_squared_error(y_test1,y_pred2))\n",
    "print('root_mean_squared error of is==',np.sqrt(mean_squared_error(y_test1,y_pred2)))"
   ]
  },
  {
   "cell_type": "code",
   "execution_count": 126,
   "id": "8e71aaab",
   "metadata": {},
   "outputs": [
    {
     "name": "stdout",
     "output_type": "stream",
     "text": [
      "[0.21443229 0.00775716 0.0553345 ]\n",
      "0.09250798229239283\n"
     ]
    }
   ],
   "source": [
    "#cross validation\n",
    "knn_accuracies = cross_val_score(estimator = knn, X = X_train, y = y_train, cv = 3)\n",
    "print(knn_accuracies)\n",
    "\n",
    "print(knn_accuracies.mean())"
   ]
  },
  {
   "cell_type": "code",
   "execution_count": 127,
   "id": "6f8473eb",
   "metadata": {},
   "outputs": [
    {
     "data": {
      "image/png": "[encoded data removed]",
      "text/plain": [
       "<Figure size 640x480 with 1 Axes>"
      ]
     },
     "metadata": {},
     "output_type": "display_data"
    },
    {
     "data": {
      "image/png": "[encoded data removed]",
      "text/plain": [
       "<Figure size 640x480 with 1 Axes>"
      ]
     },
     "metadata": {},
     "output_type": "display_data"
    }
   ],
   "source": [
    "#plotting model fitting\n",
    "plotGraph(y_test1, y_pred2, 'KNN Fit')\n",
    "plt.scatter(y_test1,y_pred2,color='g',marker='x', alpha=0.6, s=100,label='KNN Y pred')\n",
    "plt.xlabel('y_test')\n",
    "plt.ylabel('y_pred1')\n",
    "plt.legend()\n",
    "plt.grid()"
   ]
  },
  {
   "cell_type": "markdown",
   "id": "b4fb1f9e",
   "metadata": {},
   "source": [
    "### 3.2c Model 3: Decision Tree (Model Fit, Model Accuracy, Cross Validation, Model Tuning)\n",
    "\n",
    "#### A decision tree simply asks a question, and based on the answer (Yes/No), it further split the tree into subtrees. In Decision tree, there are two nodes, which are the Decision Node and Leaf Node. Decision nodes are used to make any decision and have multiple branches, whereas Leaf nodes are the output of those decisions and do not contain any further branches."
   ]
  },
  {
   "cell_type": "code",
   "execution_count": 97,
   "id": "fbe05699",
   "metadata": {},
   "outputs": [],
   "source": [
    "#Decision tree\n",
    "\n",
    "from sklearn.tree import DecisionTreeRegressor\n",
    "regressor = DecisionTreeRegressor(random_state = 0)\n",
    "regressor.fit(X_train, y_train)  \n",
    "\n",
    "y_pred= regressor.predict(X_test)\n",
    "y_pred=y_pred.reshape((-1,1))\n",
    "y_pred3 = sc_y.inverse_transform(y_pred) "
   ]
  },
  {
   "cell_type": "code",
   "execution_count": 98,
   "id": "6a71b764",
   "metadata": {},
   "outputs": [
    {
     "name": "stdout",
     "output_type": "stream",
     "text": [
      "r2 score is  0.9365866189834123\n",
      "mean_sqrd_error is== 1744779.7761615007\n",
      "root_mean_squared error of is== 1320.9011227800136\n"
     ]
    }
   ],
   "source": [
    "# predicting the accuracy score\n",
    "score=r2_score(y_test1,y_pred3)\n",
    "print('r2 score is ',score)\n",
    "print('mean_sqrd_error is==',mean_squared_error(y_test1,y_pred3))\n",
    "print('root_mean_squared error of is==',np.sqrt(mean_squared_error(y_test1,y_pred3)))\n",
    "lr_accuracies = cross_val_score(estimator = , X = X_train, y = y_train, cv = 3)"
   ]
  },
  {
   "cell_type": "code",
   "execution_count": 147,
   "id": "c6e8ce7c",
   "metadata": {},
   "outputs": [
    {
     "name": "stdout",
     "output_type": "stream",
     "text": [
      "[0.88783496 0.97110429 0.88295354]\n",
      "0.9139642611977963\n"
     ]
    }
   ],
   "source": [
    "#cross validation\n",
    "y_train=y_train.ravel()\n",
    "DT_accuracies = cross_val_score(estimator = regressor, X = X_train, y = y_train, cv = 3)\n",
    "print(DT_accuracies)\n",
    "\n",
    "print(DT_accuracies.mean())"
   ]
  },
  {
   "cell_type": "code",
   "execution_count": 129,
   "id": "39b4496f",
   "metadata": {},
   "outputs": [],
   "source": [
    "reg=[]\n",
    "r2_score=[]\n",
    "mean_square_error=[]\n",
    "root_mean_square_error=[]"
   ]
  },
  {
   "cell_type": "code",
   "execution_count": 131,
   "id": "e3a0f7b4",
   "metadata": {},
   "outputs": [
    {
     "data": {
      "image/png": "[encoded data removed]",
      "text/plain": [
       "<Figure size 640x480 with 1 Axes>"
      ]
     },
     "metadata": {},
     "output_type": "display_data"
    },
    {
     "data": {
      "image/png": "[encoded data removed]",
      "text/plain": [
       "<Figure size 640x480 with 1 Axes>"
      ]
     },
     "metadata": {},
     "output_type": "display_data"
    }
   ],
   "source": [
    "# plotting model fitting\n",
    "\n",
    "plotGraph(y_test1, y_pred3, 'Decision tree fit')\n",
    "plt.scatter(y_test1,y_pred3,color='g',marker='x', alpha=0.6, s=100,label='Decision tree Y pred')\n",
    "plt.xlabel('y_test')\n",
    "plt.ylabel('y_pred3')\n",
    "plt.legend()\n",
    "plt.grid()"
   ]
  },
  {
   "cell_type": "markdown",
   "id": "93364814",
   "metadata": {},
   "source": [
    "### 3.3 Model Performance"
   ]
  },
  {
   "cell_type": "markdown",
   "id": "9d3ab0cd",
   "metadata": {},
   "source": [
    "#### 1. Linear Regression Performance:\n",
    "#### -Accuracy(r2_score) : 0.9752735402555742\n",
    "#### -mean_sqrd_error : 680333.17584597\n",
    "#### -root_mean_squared error : 824.8231179143623\n",
    "#### -cross validation : 0.923785690950468\n",
    "\n",
    "#### 2. KNN Performance:\n",
    "\n",
    "#### -Accuracy(r2_score) : 0.2625598727965843\n",
    "#### -mean_sqrd_error : 20290206.884536203\n",
    "#### -root_mean_squared error : 4504.465216264435\n",
    "#### -cross validation : 0.09250798229239283\n",
    "\n",
    "#### 3. Decision Tree Performance:\n",
    "\n",
    "#### -Accuracy(r2_score) : 0.9365866189834123\n",
    "#### -mean_sqrd_error : 1744779.7761615007\n",
    "#### -root_mean_squared error :1320.9011227800136\n",
    "#### -cross validation : 0.9139642611977963"
   ]
  },
  {
   "cell_type": "markdown",
   "id": "15a9bbe7",
   "metadata": {},
   "source": [
    "### 4.Results"
   ]
  },
  {
   "cell_type": "markdown",
   "id": "857fc0fb",
   "metadata": {},
   "source": [
    "#### Based on the performance metrics, the linear regression model seems to be the best model for predicting profit as the output variable. It has a high accuracy (r2_score) of 0.975 and a low root_mean_squared_error of 824.82. Additionally, it has a high cross-validation score of 0.92, indicating good generalization performance.\n",
    "\n",
    "#### In contrast, the KNN model has a low accuracy (r2_score) of 0.26 and a high root_mean_squared_error of 4504.47. The cross-validation score is also very low at 0.09, indicating poor generalization performance.\n",
    "\n",
    "#### The decision tree model performs well, but not as well as the linear regression model, with an accuracy (r2_score) of 0.936, and a root_mean_squared_error of 1320.90. However, the decision tree model has a high cross-validation score of 0.91, indicating good generalization performance.\n",
    "\n",
    "#### In summary, based on the provided performance metrics, the linear regression model would be the best choice for predicting customer's success considering GROSS_PROFIT_DEAD_NET as the output variable."
   ]
  }
 ],
 "metadata": {
  "kernelspec": {
   "display_name": "Python 3 (ipykernel)",
   "language": "python",
   "name": "python3"
  },
  "language_info": {
   "codemirror_mode": {
    "name": "ipython",
    "version": 3
   },
   "file_extension": ".py",
   "mimetype": "text/x-python",
   "name": "python",
   "nbconvert_exporter": "python",
   "pygments_lexer": "ipython3",
   "version": "3.9.13"
  }
 },
 "nbformat": 4,
 "nbformat_minor": 5
}
