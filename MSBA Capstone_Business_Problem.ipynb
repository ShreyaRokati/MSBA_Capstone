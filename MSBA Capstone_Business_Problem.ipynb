{
 "cells": [
  {
   "cell_type": "markdown",
   "id": "b869185b",
   "metadata": {},
   "source": [
    "## MSBA CAPSTONE - Swire Coca-cola Customer Success Prediction"
   ]
  },
  {
   "cell_type": "markdown",
   "id": "cf7dfc1d",
   "metadata": {},
   "source": [
    "## Business Problem Statement"
   ]
  },
  {
   "attachments": {},
   "cell_type": "markdown",
   "id": "bac46d1b",
   "metadata": {},
   "source": [
    "#### Swire Coca-cola business is a 'B2B' driven by local businesses such as restaurants. To partner with another business, Swire needs to analyze if the partnered business can gain profits and less risk of loss. To resolve this issue, the company needs to improve its ability to predict the following metrics:\n",
    "#### 1) Business popularity by checking its overall rating ( 4.0 or higher online reviews), \n",
    "#### 2) Longevity (1, 2, or 3+ years),\n",
    "#### 3) 3-year volume sales.\n",
    "#### By Analyzing the metrics mentioned above, Swire Coca-cola aims to identify the prospective business customers and determine the price and funding for a business who are most likely to provide high profits and less risk.\n",
    "#### The project will succeed by analyzing the customer and sales data, providing Swire Coca-cola with a list of Customers, which will help them to gain more profits. The project timeline is three months, delivered by 3 MSBA graduate students."
   ]
  },
  {
   "cell_type": "code",
   "execution_count": null,
   "id": "bc3fbc90",
   "metadata": {},
   "outputs": [],
   "source": []
  }
 ],
 "metadata": {
  "kernelspec": {
   "display_name": "Python 3 (ipykernel)",
   "language": "python",
   "name": "python3"
  },
  "language_info": {
   "codemirror_mode": {
    "name": "ipython",
    "version": 3
   },
   "file_extension": ".py",
   "mimetype": "text/x-python",
   "name": "python",
   "nbconvert_exporter": "python",
   "pygments_lexer": "ipython3",
   "version": "3.9.12"
  }
 },
 "nbformat": 4,
 "nbformat_minor": 5
}
